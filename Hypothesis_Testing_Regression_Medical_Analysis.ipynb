{
  "nbformat": 4,
  "nbformat_minor": 0,
  "metadata": {
    "colab": {
      "name": "Gemini Medical Analysis.ipynb",
      "provenance": []
    },
    "kernelspec": {
      "name": "python3",
      "display_name": "Python 3"
    }
  },
  "cells": [
    {
      "cell_type": "markdown",
      "metadata": {
        "id": "B5LfFr6CwnGk"
      },
      "source": [
        "##***Mounting Drive and Loading Data***"
      ]
    },
    {
      "cell_type": "code",
      "metadata": {
        "colab": {
          "base_uri": "https://localhost:8080/"
        },
        "id": "qhuIQkdOfVfb",
        "outputId": "6f983c1d-c8bd-416c-93e0-9755b887344d"
      },
      "source": [
        "from google.colab import drive\r\n",
        "drive.mount('/content/drive')"
      ],
      "execution_count": 1,
      "outputs": [
        {
          "output_type": "stream",
          "text": [
            "Mounted at /content/drive\n"
          ],
          "name": "stdout"
        }
      ]
    },
    {
      "cell_type": "code",
      "metadata": {
        "colab": {
          "base_uri": "https://localhost:8080/",
          "height": 216
        },
        "id": "TjGn7_Mtfc03",
        "outputId": "0ddb22c1-b99b-4654-9bb5-40ffb5945840"
      },
      "source": [
        "import pandas as pd\r\n",
        "import numpy as np\r\n",
        "\r\n",
        "admission_df = pd.read_csv('/content/drive/MyDrive/Job Hunt/hospital/Admissions.csv')\r\n",
        "lab_df = pd.read_csv('/content/drive/MyDrive/Job Hunt/hospital/Lab.csv')\r\n",
        "transfusion_df = pd.read_csv('/content/drive/MyDrive/Job Hunt/hospital/Transfusions.csv')\r\n",
        "\r\n",
        "admission_df.head(2)"
      ],
      "execution_count": 3,
      "outputs": [
        {
          "output_type": "execute_result",
          "data": {
            "text/html": [
              "<div>\n",
              "<style scoped>\n",
              "    .dataframe tbody tr th:only-of-type {\n",
              "        vertical-align: middle;\n",
              "    }\n",
              "\n",
              "    .dataframe tbody tr th {\n",
              "        vertical-align: top;\n",
              "    }\n",
              "\n",
              "    .dataframe thead th {\n",
              "        text-align: right;\n",
              "    }\n",
              "</style>\n",
              "<table border=\"1\" class=\"dataframe\">\n",
              "  <thead>\n",
              "    <tr style=\"text-align: right;\">\n",
              "      <th></th>\n",
              "      <th>admission_id</th>\n",
              "      <th>patient_id</th>\n",
              "      <th>admission_date</th>\n",
              "      <th>admission_time</th>\n",
              "      <th>discharge_date</th>\n",
              "      <th>discharge_time</th>\n",
              "      <th>hospital</th>\n",
              "      <th>age</th>\n",
              "      <th>sex</th>\n",
              "      <th>charlson_comorbidity_index</th>\n",
              "      <th>lap_score</th>\n",
              "    </tr>\n",
              "  </thead>\n",
              "  <tbody>\n",
              "    <tr>\n",
              "      <th>0</th>\n",
              "      <td>3602</td>\n",
              "      <td>34208</td>\n",
              "      <td>2011-09-07</td>\n",
              "      <td>NaN</td>\n",
              "      <td>09/11/2011</td>\n",
              "      <td>13:16</td>\n",
              "      <td>St. Joseph's Health Centre</td>\n",
              "      <td>NaN</td>\n",
              "      <td>M</td>\n",
              "      <td>1</td>\n",
              "      <td>45</td>\n",
              "    </tr>\n",
              "    <tr>\n",
              "      <th>1</th>\n",
              "      <td>2790</td>\n",
              "      <td>90930</td>\n",
              "      <td>2008-07-22</td>\n",
              "      <td>06:19</td>\n",
              "      <td>07/24/2008</td>\n",
              "      <td>17:54</td>\n",
              "      <td>St. Michael's Hospital</td>\n",
              "      <td>48.0</td>\n",
              "      <td>M</td>\n",
              "      <td>1</td>\n",
              "      <td>46</td>\n",
              "    </tr>\n",
              "  </tbody>\n",
              "</table>\n",
              "</div>"
            ],
            "text/plain": [
              "   admission_id  patient_id  ... charlson_comorbidity_index lap_score\n",
              "0          3602       34208  ...                          1        45\n",
              "1          2790       90930  ...                          1        46\n",
              "\n",
              "[2 rows x 11 columns]"
            ]
          },
          "metadata": {
            "tags": []
          },
          "execution_count": 3
        }
      ]
    },
    {
      "cell_type": "code",
      "metadata": {
        "colab": {
          "base_uri": "https://localhost:8080/",
          "height": 111
        },
        "id": "T7zQbNoNgTAY",
        "outputId": "174fb963-882e-4e0e-e7cf-ecec2d8cca36"
      },
      "source": [
        "lab_df.head(2)"
      ],
      "execution_count": 4,
      "outputs": [
        {
          "output_type": "execute_result",
          "data": {
            "text/html": [
              "<div>\n",
              "<style scoped>\n",
              "    .dataframe tbody tr th:only-of-type {\n",
              "        vertical-align: middle;\n",
              "    }\n",
              "\n",
              "    .dataframe tbody tr th {\n",
              "        vertical-align: top;\n",
              "    }\n",
              "\n",
              "    .dataframe thead th {\n",
              "        text-align: right;\n",
              "    }\n",
              "</style>\n",
              "<table border=\"1\" class=\"dataframe\">\n",
              "  <thead>\n",
              "    <tr style=\"text-align: right;\">\n",
              "      <th></th>\n",
              "      <th>admission_id</th>\n",
              "      <th>test_name</th>\n",
              "      <th>test_code</th>\n",
              "      <th>result_unit</th>\n",
              "      <th>result_value</th>\n",
              "      <th>result_date</th>\n",
              "      <th>result_time</th>\n",
              "    </tr>\n",
              "  </thead>\n",
              "  <tbody>\n",
              "    <tr>\n",
              "      <th>0</th>\n",
              "      <td>4416</td>\n",
              "      <td>Albumin</td>\n",
              "      <td>ALB</td>\n",
              "      <td>g/dL</td>\n",
              "      <td>4.1</td>\n",
              "      <td>2003-08-19</td>\n",
              "      <td>02:25</td>\n",
              "    </tr>\n",
              "    <tr>\n",
              "      <th>1</th>\n",
              "      <td>4636</td>\n",
              "      <td>Platelet Count</td>\n",
              "      <td>PLT</td>\n",
              "      <td>E9/L</td>\n",
              "      <td>295.0</td>\n",
              "      <td>2012-02-05</td>\n",
              "      <td>01:42</td>\n",
              "    </tr>\n",
              "  </tbody>\n",
              "</table>\n",
              "</div>"
            ],
            "text/plain": [
              "   admission_id       test_name test_code  ... result_value  result_date result_time\n",
              "0          4416         Albumin       ALB  ...          4.1   2003-08-19       02:25\n",
              "1          4636  Platelet Count       PLT  ...        295.0   2012-02-05       01:42\n",
              "\n",
              "[2 rows x 7 columns]"
            ]
          },
          "metadata": {
            "tags": []
          },
          "execution_count": 4
        }
      ]
    },
    {
      "cell_type": "code",
      "metadata": {
        "colab": {
          "base_uri": "https://localhost:8080/",
          "height": 111
        },
        "id": "vUpIrYL3gYyE",
        "outputId": "ba6b243b-1b1a-4d6a-836d-d813593175e3"
      },
      "source": [
        "transfusion_df.head(2)"
      ],
      "execution_count": 5,
      "outputs": [
        {
          "output_type": "execute_result",
          "data": {
            "text/html": [
              "<div>\n",
              "<style scoped>\n",
              "    .dataframe tbody tr th:only-of-type {\n",
              "        vertical-align: middle;\n",
              "    }\n",
              "\n",
              "    .dataframe tbody tr th {\n",
              "        vertical-align: top;\n",
              "    }\n",
              "\n",
              "    .dataframe thead th {\n",
              "        text-align: right;\n",
              "    }\n",
              "</style>\n",
              "<table border=\"1\" class=\"dataframe\">\n",
              "  <thead>\n",
              "    <tr style=\"text-align: right;\">\n",
              "      <th></th>\n",
              "      <th>admission_id</th>\n",
              "      <th>issue_date</th>\n",
              "      <th>issue_time</th>\n",
              "      <th>rbc_transfusion</th>\n",
              "      <th>platelet_transfusion</th>\n",
              "      <th>plasma_transfusion</th>\n",
              "    </tr>\n",
              "  </thead>\n",
              "  <tbody>\n",
              "    <tr>\n",
              "      <th>0</th>\n",
              "      <td>8755</td>\n",
              "      <td>2002-08-25</td>\n",
              "      <td>16:05</td>\n",
              "      <td>False</td>\n",
              "      <td>False</td>\n",
              "      <td>True</td>\n",
              "    </tr>\n",
              "    <tr>\n",
              "      <th>1</th>\n",
              "      <td>9736</td>\n",
              "      <td>2006-03-17</td>\n",
              "      <td>08:05</td>\n",
              "      <td>True</td>\n",
              "      <td>False</td>\n",
              "      <td>False</td>\n",
              "    </tr>\n",
              "  </tbody>\n",
              "</table>\n",
              "</div>"
            ],
            "text/plain": [
              "   admission_id  issue_date  ... platelet_transfusion  plasma_transfusion\n",
              "0          8755  2002-08-25  ...                False                True\n",
              "1          9736  2006-03-17  ...                False               False\n",
              "\n",
              "[2 rows x 6 columns]"
            ]
          },
          "metadata": {
            "tags": []
          },
          "execution_count": 5
        }
      ]
    },
    {
      "cell_type": "markdown",
      "metadata": {
        "id": "bQj9VgG6iLze"
      },
      "source": [
        "##***Combining all three data frames using admission_id into one dataframe, retaining all rows from Admissions***"
      ]
    },
    {
      "cell_type": "code",
      "metadata": {
        "colab": {
          "base_uri": "https://localhost:8080/",
          "height": 250
        },
        "id": "n6eP_Bu8gbXl",
        "outputId": "8a3406bc-a937-4d2b-fc07-30af6d08d68d"
      },
      "source": [
        "# In order to keep all the rows of the admissions we will left join the admission table with\r\n",
        "# lab table and left join the resulting table with the transfusion table\r\n",
        "\r\n",
        "# left_df.merge(right_df, on='user_id', how='left')\r\n",
        "\r\n",
        "\r\n",
        "combined_df = admission_df.merge(lab_df, on='admission_id', how='left').merge(transfusion_df,\r\n",
        "                                                                              on='admission_id', how = 'left')\r\n",
        "print(admission_df.shape)\r\n",
        "print(combined_df.shape)\r\n",
        "combined_df.head(2)"
      ],
      "execution_count": 13,
      "outputs": [
        {
          "output_type": "stream",
          "text": [
            "(5231, 11)\n",
            "(5231, 22)\n"
          ],
          "name": "stdout"
        },
        {
          "output_type": "execute_result",
          "data": {
            "text/html": [
              "<div>\n",
              "<style scoped>\n",
              "    .dataframe tbody tr th:only-of-type {\n",
              "        vertical-align: middle;\n",
              "    }\n",
              "\n",
              "    .dataframe tbody tr th {\n",
              "        vertical-align: top;\n",
              "    }\n",
              "\n",
              "    .dataframe thead th {\n",
              "        text-align: right;\n",
              "    }\n",
              "</style>\n",
              "<table border=\"1\" class=\"dataframe\">\n",
              "  <thead>\n",
              "    <tr style=\"text-align: right;\">\n",
              "      <th></th>\n",
              "      <th>admission_id</th>\n",
              "      <th>patient_id</th>\n",
              "      <th>admission_date</th>\n",
              "      <th>admission_time</th>\n",
              "      <th>discharge_date</th>\n",
              "      <th>discharge_time</th>\n",
              "      <th>hospital</th>\n",
              "      <th>age</th>\n",
              "      <th>sex</th>\n",
              "      <th>charlson_comorbidity_index</th>\n",
              "      <th>lap_score</th>\n",
              "      <th>test_name</th>\n",
              "      <th>test_code</th>\n",
              "      <th>result_unit</th>\n",
              "      <th>result_value</th>\n",
              "      <th>result_date</th>\n",
              "      <th>result_time</th>\n",
              "      <th>issue_date</th>\n",
              "      <th>issue_time</th>\n",
              "      <th>rbc_transfusion</th>\n",
              "      <th>platelet_transfusion</th>\n",
              "      <th>plasma_transfusion</th>\n",
              "    </tr>\n",
              "  </thead>\n",
              "  <tbody>\n",
              "    <tr>\n",
              "      <th>0</th>\n",
              "      <td>3602</td>\n",
              "      <td>34208</td>\n",
              "      <td>2011-09-07</td>\n",
              "      <td>NaN</td>\n",
              "      <td>09/11/2011</td>\n",
              "      <td>13:16</td>\n",
              "      <td>St. Joseph's Health Centre</td>\n",
              "      <td>NaN</td>\n",
              "      <td>M</td>\n",
              "      <td>1</td>\n",
              "      <td>45</td>\n",
              "      <td>NaN</td>\n",
              "      <td>NaN</td>\n",
              "      <td>NaN</td>\n",
              "      <td>NaN</td>\n",
              "      <td>NaN</td>\n",
              "      <td>NaN</td>\n",
              "      <td>NaN</td>\n",
              "      <td>NaN</td>\n",
              "      <td>NaN</td>\n",
              "      <td>NaN</td>\n",
              "      <td>NaN</td>\n",
              "    </tr>\n",
              "    <tr>\n",
              "      <th>1</th>\n",
              "      <td>2790</td>\n",
              "      <td>90930</td>\n",
              "      <td>2008-07-22</td>\n",
              "      <td>06:19</td>\n",
              "      <td>07/24/2008</td>\n",
              "      <td>17:54</td>\n",
              "      <td>St. Michael's Hospital</td>\n",
              "      <td>48.0</td>\n",
              "      <td>M</td>\n",
              "      <td>1</td>\n",
              "      <td>46</td>\n",
              "      <td>Albumin</td>\n",
              "      <td>ALB</td>\n",
              "      <td>g/dL</td>\n",
              "      <td>2.2</td>\n",
              "      <td>2008-07-22</td>\n",
              "      <td>16:45</td>\n",
              "      <td>NaN</td>\n",
              "      <td>NaN</td>\n",
              "      <td>NaN</td>\n",
              "      <td>NaN</td>\n",
              "      <td>NaN</td>\n",
              "    </tr>\n",
              "  </tbody>\n",
              "</table>\n",
              "</div>"
            ],
            "text/plain": [
              "   admission_id  patient_id  ... platelet_transfusion plasma_transfusion\n",
              "0          3602       34208  ...                  NaN                NaN\n",
              "1          2790       90930  ...                  NaN                NaN\n",
              "\n",
              "[2 rows x 22 columns]"
            ]
          },
          "metadata": {
            "tags": []
          },
          "execution_count": 13
        }
      ]
    },
    {
      "cell_type": "markdown",
      "metadata": {
        "id": "0xDGgj1yDM0G"
      },
      "source": [
        "In order to keep all the rows of the admissions we will left join the admission table with lab table and left join the resulting table with the transfusion table"
      ]
    },
    {
      "cell_type": "markdown",
      "metadata": {
        "id": "wahLOKuzDsv7"
      },
      "source": [
        "##***Finding Missing Values in Each Feature***"
      ]
    },
    {
      "cell_type": "code",
      "metadata": {
        "colab": {
          "base_uri": "https://localhost:8080/"
        },
        "id": "EtaWYVyLi8tX",
        "outputId": "1ad985d1-e20f-4545-b700-6d1102961997"
      },
      "source": [
        "missing_values = combined_df.isnull().sum()\r\n",
        "missing_values"
      ],
      "execution_count": 66,
      "outputs": [
        {
          "output_type": "execute_result",
          "data": {
            "text/plain": [
              "admission_id                     0\n",
              "patient_id                       0\n",
              "admission_date                   0\n",
              "admission_time                 696\n",
              "discharge_date                   0\n",
              "discharge_time                   0\n",
              "hospital                         0\n",
              "age                            627\n",
              "sex                              0\n",
              "charlson_comorbidity_index     261\n",
              "lap_score                        0\n",
              "test_name                     1622\n",
              "test_code                     1622\n",
              "result_unit                   1622\n",
              "result_value                  1622\n",
              "result_date                   1622\n",
              "result_time                   1622\n",
              "issue_date                    4574\n",
              "issue_time                    4574\n",
              "rbc_transfusion               4574\n",
              "platelet_transfusion          4574\n",
              "plasma_transfusion            4574\n",
              "age_with_mean                    0\n",
              "age_with_cc                    261\n",
              "dtype: int64"
            ]
          },
          "metadata": {
            "tags": []
          },
          "execution_count": 66
        }
      ]
    },
    {
      "cell_type": "markdown",
      "metadata": {
        "id": "7FmWOSERD1Ab"
      },
      "source": [
        "##***Imputing Missing Values in DataSet***"
      ]
    },
    {
      "cell_type": "code",
      "metadata": {
        "colab": {
          "base_uri": "https://localhost:8080/",
          "height": 216
        },
        "id": "G8nELPR1mPp5",
        "outputId": "3a77c2cf-c140-4a79-e8f2-d28666c16d4d"
      },
      "source": [
        "combined_df_no_nan = combined_df.dropna()\r\n",
        "mean_value_age=int(combined_df_no_nan['age'].mean())\r\n",
        "\r\n",
        "mode_value_cc_ind=combined_df_no_nan['charlson_comorbidity_index'].mode()\r\n",
        "combined_df['age_with_mean']=combined_df['age'].fillna(mean_value_age)\r\n",
        "combined_df['age_with_cc']=combined_df['charlson_comorbidity_index'].fillna(mode_value_cc_ind)\r\n",
        "\r\n",
        "combined_df.head(2)\r\n"
      ],
      "execution_count": 30,
      "outputs": [
        {
          "output_type": "execute_result",
          "data": {
            "text/html": [
              "<div>\n",
              "<style scoped>\n",
              "    .dataframe tbody tr th:only-of-type {\n",
              "        vertical-align: middle;\n",
              "    }\n",
              "\n",
              "    .dataframe tbody tr th {\n",
              "        vertical-align: top;\n",
              "    }\n",
              "\n",
              "    .dataframe thead th {\n",
              "        text-align: right;\n",
              "    }\n",
              "</style>\n",
              "<table border=\"1\" class=\"dataframe\">\n",
              "  <thead>\n",
              "    <tr style=\"text-align: right;\">\n",
              "      <th></th>\n",
              "      <th>admission_id</th>\n",
              "      <th>patient_id</th>\n",
              "      <th>admission_date</th>\n",
              "      <th>admission_time</th>\n",
              "      <th>discharge_date</th>\n",
              "      <th>discharge_time</th>\n",
              "      <th>hospital</th>\n",
              "      <th>age</th>\n",
              "      <th>sex</th>\n",
              "      <th>charlson_comorbidity_index</th>\n",
              "      <th>lap_score</th>\n",
              "      <th>test_name</th>\n",
              "      <th>test_code</th>\n",
              "      <th>result_unit</th>\n",
              "      <th>result_value</th>\n",
              "      <th>result_date</th>\n",
              "      <th>result_time</th>\n",
              "      <th>issue_date</th>\n",
              "      <th>issue_time</th>\n",
              "      <th>rbc_transfusion</th>\n",
              "      <th>platelet_transfusion</th>\n",
              "      <th>plasma_transfusion</th>\n",
              "      <th>age_with_mean</th>\n",
              "      <th>age_with_cc</th>\n",
              "    </tr>\n",
              "  </thead>\n",
              "  <tbody>\n",
              "    <tr>\n",
              "      <th>0</th>\n",
              "      <td>3602</td>\n",
              "      <td>34208</td>\n",
              "      <td>2011-09-07</td>\n",
              "      <td>NaN</td>\n",
              "      <td>09/11/2011</td>\n",
              "      <td>13:16</td>\n",
              "      <td>St. Joseph's Health Centre</td>\n",
              "      <td>NaN</td>\n",
              "      <td>M</td>\n",
              "      <td>1</td>\n",
              "      <td>45</td>\n",
              "      <td>NaN</td>\n",
              "      <td>NaN</td>\n",
              "      <td>NaN</td>\n",
              "      <td>NaN</td>\n",
              "      <td>NaN</td>\n",
              "      <td>NaN</td>\n",
              "      <td>NaN</td>\n",
              "      <td>NaN</td>\n",
              "      <td>NaN</td>\n",
              "      <td>NaN</td>\n",
              "      <td>NaN</td>\n",
              "      <td>56.0</td>\n",
              "      <td>1</td>\n",
              "    </tr>\n",
              "    <tr>\n",
              "      <th>1</th>\n",
              "      <td>2790</td>\n",
              "      <td>90930</td>\n",
              "      <td>2008-07-22</td>\n",
              "      <td>06:19</td>\n",
              "      <td>07/24/2008</td>\n",
              "      <td>17:54</td>\n",
              "      <td>St. Michael's Hospital</td>\n",
              "      <td>48.0</td>\n",
              "      <td>M</td>\n",
              "      <td>1</td>\n",
              "      <td>46</td>\n",
              "      <td>Albumin</td>\n",
              "      <td>ALB</td>\n",
              "      <td>g/dL</td>\n",
              "      <td>2.2</td>\n",
              "      <td>2008-07-22</td>\n",
              "      <td>16:45</td>\n",
              "      <td>NaN</td>\n",
              "      <td>NaN</td>\n",
              "      <td>NaN</td>\n",
              "      <td>NaN</td>\n",
              "      <td>NaN</td>\n",
              "      <td>48.0</td>\n",
              "      <td>1</td>\n",
              "    </tr>\n",
              "  </tbody>\n",
              "</table>\n",
              "</div>"
            ],
            "text/plain": [
              "   admission_id  patient_id  ... age_with_mean age_with_cc\n",
              "0          3602       34208  ...          56.0           1\n",
              "1          2790       90930  ...          48.0           1\n",
              "\n",
              "[2 rows x 24 columns]"
            ]
          },
          "metadata": {
            "tags": []
          },
          "execution_count": 30
        }
      ]
    },
    {
      "cell_type": "markdown",
      "metadata": {
        "id": "ATRObCsd6ZEc"
      },
      "source": [
        "This is the most common method of data imputation, where you just replace all the missing values with the mean, median or mode of the column. While this is useful it’s easy and fast, it sometimes changes the statistical nature of the data. It may result in skewness histograms. Secondly it will underestimate the variance in our data because we’re making numerous values the exact same.\r\n",
        "\r\n",
        "However, its better to impute mean value in age and mode value in charlson_comorbidity_index column. All values in charlson_comorbidity_index column are not numbers so mean and median are not possible.\r\n",
        "\r\n",
        "There are 600+ empty rows so we cannot remove them as a lot of data will be lost."
      ]
    },
    {
      "cell_type": "markdown",
      "metadata": {
        "id": "rD4SLiVVoy5Q"
      },
      "source": [
        ""
      ]
    },
    {
      "cell_type": "markdown",
      "metadata": {
        "id": "oJM3kcC-EatX"
      },
      "source": [
        "##***Hypothesis Testing :***\r\n",
        "###***Is there a significant difference in age between patients who had an RBC transfusion and patients that did not ?***"
      ]
    },
    {
      "cell_type": "markdown",
      "metadata": {
        "id": "vZFySPe3ouo7"
      },
      "source": [
        "Assumptions\r\n",
        "\r\n",
        "Observations in each sample are independent and identically distributed (iid).\r\n",
        "Observations in each sample are normally distributed as per Central Limit Theorem(samples = 5231 > 30).\r\n",
        "Observations in each sample have the same variance.\r\n",
        "Interpretation\r\n",
        "\r\n",
        "H0: the means of the samples are equal.\r\n",
        "H1: the means of the samples are unequal.\r\n",
        "\r\n"
      ]
    },
    {
      "cell_type": "code",
      "metadata": {
        "id": "EjWfLHixpLwL"
      },
      "source": [
        "combined_df_hyp = combined_df.copy()\r\n",
        "combined_df_hyp = combined_df_hyp[combined_df_hyp['rbc_transfusion'].notna()]\r\n",
        "combined_df_true = list(combined_df_hyp[combined_df_hyp['rbc_transfusion']==True]['age_with_mean'])\r\n",
        "combined_df_false = list(combined_df_hyp[combined_df_hyp['rbc_transfusion']==False]['age_with_mean'])"
      ],
      "execution_count": 47,
      "outputs": []
    },
    {
      "cell_type": "code",
      "metadata": {
        "colab": {
          "base_uri": "https://localhost:8080/"
        },
        "id": "CFKwYwtHp4rJ",
        "outputId": "aacfafc1-f243-4425-8d3f-e183bfea2806"
      },
      "source": [
        "from scipy.stats import ttest_ind\r\n",
        "\r\n",
        "stat, p = ttest_ind(combined_df_true, combined_df_false)\r\n",
        "print('stat=%.3f, p=%.3f' % (stat, p))\r\n",
        "if p > 0.05:\r\n",
        "\tprint('Probably the same distribution')\r\n",
        "else:\r\n",
        "\tprint('Probably different distributions')\r\n",
        " \r\n",
        "print(\"P-value\",p)\r\n",
        "print(\"Mean of rbc tranfusion true: \",sum(combined_df_true)/len(combined_df_true))\r\n",
        "print(\"Mean of rbc tranfusion false: \",sum(combined_df_false)/len(combined_df_false))\r\n"
      ],
      "execution_count": 48,
      "outputs": [
        {
          "output_type": "stream",
          "text": [
            "stat=7.707, p=0.000\n",
            "Probably different distributions\n",
            "P-value 4.784227046802278e-14\n",
            "Mean of rbc tranfusion true:  57.8563829787234\n",
            "Mean of rbc tranfusion false:  55.15658362989324\n"
          ],
          "name": "stdout"
        }
      ]
    },
    {
      "cell_type": "code",
      "metadata": {
        "colab": {
          "base_uri": "https://localhost:8080/"
        },
        "id": "4WYw--oDuKlI",
        "outputId": "f2d41d83-d0e6-426b-835e-26aecc7b0226"
      },
      "source": [
        "combined_df_hyp.shape"
      ],
      "execution_count": 50,
      "outputs": [
        {
          "output_type": "execute_result",
          "data": {
            "text/plain": [
              "(657, 24)"
            ]
          },
          "metadata": {
            "tags": []
          },
          "execution_count": 50
        }
      ]
    },
    {
      "cell_type": "markdown",
      "metadata": {
        "id": "zmKKZTJlFP-e"
      },
      "source": [
        "##***Hypothesis Testing of proportion-based samples:***\r\n",
        "###***Is a significant difference in sex between the groups who had an RBC transfusion and those who did not ?***"
      ]
    },
    {
      "cell_type": "code",
      "metadata": {
        "colab": {
          "base_uri": "https://localhost:8080/"
        },
        "id": "6GmeOVpZq0Lz",
        "outputId": "189fb38b-19b4-40a4-a22e-96c3247a97a4"
      },
      "source": [
        "combined_rbc_true = combined_df_hyp[combined_df_hyp['rbc_transfusion']==True]\r\n",
        "combined_obs  = combined_rbc_true.shape[0]\r\n",
        "combined_male = combined_rbc_true[combined_rbc_true['sex']=='M'].shape[0]\r\n",
        "combined_female = combined_rbc_true[combined_rbc_true['sex']=='F'].shape[0]\r\n",
        "\r\n",
        "\r\n",
        "print(combined_obs)\r\n",
        "print(combined_male)\r\n",
        "print(combined_female)"
      ],
      "execution_count": 84,
      "outputs": [
        {
          "output_type": "stream",
          "text": [
            "376\n",
            "167\n",
            "209\n"
          ],
          "name": "stdout"
        }
      ]
    },
    {
      "cell_type": "code",
      "metadata": {
        "colab": {
          "base_uri": "https://localhost:8080/"
        },
        "id": "jTRKbn8ksxmL",
        "outputId": "aed872d5-78e0-4987-c93a-a3565e0434a3"
      },
      "source": [
        "combined_rbc_false = combined_df_hyp[combined_df_hyp['rbc_transfusion']==False]\r\n",
        "combined_obs_false  = combined_rbc_false.shape[0]\r\n",
        "combined_male_false = combined_rbc_false[combined_rbc_false['sex']=='M'].shape[0]\r\n",
        "combined_female_false = combined_rbc_false[combined_rbc_false['sex']=='F'].shape[0]\r\n",
        "\r\n",
        "\r\n",
        "print(combined_obs_false)\r\n",
        "print(combined_male_false)\r\n",
        "print(combined_female_false)"
      ],
      "execution_count": 86,
      "outputs": [
        {
          "output_type": "stream",
          "text": [
            "281\n",
            "112\n",
            "169\n"
          ],
          "name": "stdout"
        }
      ]
    },
    {
      "cell_type": "code",
      "metadata": {
        "colab": {
          "base_uri": "https://localhost:8080/"
        },
        "id": "NT0mfxQ7uYzn",
        "outputId": "1b4f838d-d88b-472e-b067-ddfd4c6f6890"
      },
      "source": [
        "import numpy as np\r\n",
        "from statsmodels.stats.proportion import proportions_ztest\r\n",
        "count_male = np.array([combined_male, combined_male_false])\r\n",
        "nobs = np.array([combined_obs, combined_obs_false])\r\n",
        "stat, pval = proportions_ztest(count_male, nobs,0.05)\r\n",
        "print('{0:0.3f}'.format(pval))"
      ],
      "execution_count": 92,
      "outputs": [
        {
          "output_type": "stream",
          "text": [
            "0.910\n",
            "Probably the same distribution\n"
          ],
          "name": "stdout"
        }
      ]
    },
    {
      "cell_type": "code",
      "metadata": {
        "colab": {
          "base_uri": "https://localhost:8080/"
        },
        "id": "s2h3n1r80zyi",
        "outputId": "8a4816e1-9d1c-4ba1-be17-ae3d794140e3"
      },
      "source": [
        "import numpy as np\r\n",
        "from statsmodels.stats.proportion import proportions_ztest\r\n",
        "count_female = np.array([combined_female, combined_female_false])\r\n",
        "nobs = np.array([combined_obs, combined_obs_false])\r\n",
        "stat, pval = proportions_ztest(count_female, nobs,0.05)\r\n",
        "print('{0:0.3f}'.format(pval))\r\n",
        "\r\n",
        "if pval > 0.05:\r\n",
        "\tprint('Probably the same distribution')\r\n",
        "else:\r\n",
        "\tprint('Probably different distributions')\r\n",
        " \r\n"
      ],
      "execution_count": 93,
      "outputs": [
        {
          "output_type": "stream",
          "text": [
            "0.014\n",
            "Probably different distributions\n"
          ],
          "name": "stdout"
        }
      ]
    },
    {
      "cell_type": "markdown",
      "metadata": {
        "id": "lrnAj0SH6i1L"
      },
      "source": [
        "We can observe 0.014 is less than 0.05 therefore there is a difference between sex propotions in both the groups"
      ]
    },
    {
      "cell_type": "markdown",
      "metadata": {
        "id": "r0Q7PuaJF4G0"
      },
      "source": [
        "##***Linear regression model***\r\n",
        "###***Using the result_value of the “Platelet Count” lab tests as the dependent variable and age, sex, and hospital as the independent variables***"
      ]
    },
    {
      "cell_type": "code",
      "metadata": {
        "colab": {
          "base_uri": "https://localhost:8080/",
          "height": 221
        },
        "id": "4P2yluBVwY6h",
        "outputId": "e58eead1-0419-433c-c93c-d20630ffeed1"
      },
      "source": [
        "combined_df_reg = combined_df.copy()\r\n",
        "combined_df_reg = combined_df_reg\r\n",
        "combined_df_reg = combined_df_reg[combined_df_reg['test_name']=='Platelet Count']\r\n",
        "\r\n",
        "X = combined_df_reg[['age_with_mean','sex','hospital']]\r\n",
        "X = pd.get_dummies(data=X, drop_first=True)\r\n",
        "Y = combined_df_reg['result_value']\r\n",
        "X.head(5)"
      ],
      "execution_count": 78,
      "outputs": [
        {
          "output_type": "execute_result",
          "data": {
            "text/html": [
              "<div>\n",
              "<style scoped>\n",
              "    .dataframe tbody tr th:only-of-type {\n",
              "        vertical-align: middle;\n",
              "    }\n",
              "\n",
              "    .dataframe tbody tr th {\n",
              "        vertical-align: top;\n",
              "    }\n",
              "\n",
              "    .dataframe thead th {\n",
              "        text-align: right;\n",
              "    }\n",
              "</style>\n",
              "<table border=\"1\" class=\"dataframe\">\n",
              "  <thead>\n",
              "    <tr style=\"text-align: right;\">\n",
              "      <th></th>\n",
              "      <th>age_with_mean</th>\n",
              "      <th>sex_M</th>\n",
              "      <th>hospital_St. Joseph's Health Centre</th>\n",
              "      <th>hospital_St. Michael's Hospital</th>\n",
              "      <th>hospital_Sunnybrook Health Sciences Centre</th>\n",
              "      <th>hospital_Toronto Western Hospital</th>\n",
              "    </tr>\n",
              "  </thead>\n",
              "  <tbody>\n",
              "    <tr>\n",
              "      <th>7</th>\n",
              "      <td>52.0</td>\n",
              "      <td>0</td>\n",
              "      <td>1</td>\n",
              "      <td>0</td>\n",
              "      <td>0</td>\n",
              "      <td>0</td>\n",
              "    </tr>\n",
              "    <tr>\n",
              "      <th>8</th>\n",
              "      <td>56.0</td>\n",
              "      <td>0</td>\n",
              "      <td>0</td>\n",
              "      <td>1</td>\n",
              "      <td>0</td>\n",
              "      <td>0</td>\n",
              "    </tr>\n",
              "    <tr>\n",
              "      <th>18</th>\n",
              "      <td>56.0</td>\n",
              "      <td>0</td>\n",
              "      <td>0</td>\n",
              "      <td>1</td>\n",
              "      <td>0</td>\n",
              "      <td>0</td>\n",
              "    </tr>\n",
              "    <tr>\n",
              "      <th>43</th>\n",
              "      <td>56.0</td>\n",
              "      <td>1</td>\n",
              "      <td>0</td>\n",
              "      <td>0</td>\n",
              "      <td>1</td>\n",
              "      <td>0</td>\n",
              "    </tr>\n",
              "    <tr>\n",
              "      <th>44</th>\n",
              "      <td>58.0</td>\n",
              "      <td>0</td>\n",
              "      <td>0</td>\n",
              "      <td>0</td>\n",
              "      <td>1</td>\n",
              "      <td>0</td>\n",
              "    </tr>\n",
              "  </tbody>\n",
              "</table>\n",
              "</div>"
            ],
            "text/plain": [
              "    age_with_mean  ...  hospital_Toronto Western Hospital\n",
              "7            52.0  ...                                  0\n",
              "8            56.0  ...                                  0\n",
              "18           56.0  ...                                  0\n",
              "43           56.0  ...                                  0\n",
              "44           58.0  ...                                  0\n",
              "\n",
              "[5 rows x 6 columns]"
            ]
          },
          "metadata": {
            "tags": []
          },
          "execution_count": 78
        }
      ]
    },
    {
      "cell_type": "code",
      "metadata": {
        "colab": {
          "base_uri": "https://localhost:8080/"
        },
        "id": "c4DoVHsLxCJN",
        "outputId": "c845e661-8bb1-41a4-9b04-8c7dc5dcfa0e"
      },
      "source": [
        "from sklearn.model_selection import train_test_split\r\n",
        "from sklearn.linear_model import LinearRegression\r\n",
        "\r\n",
        "X_train, X_test, y_train, y_test = train_test_split(X, Y, test_size=0.4, random_state=101)\r\n",
        "print(X_train.shape)\r\n",
        "print(X_test.shape)\r\n",
        "print(y_train.shape)\r\n",
        "print(y_test.shape)\r\n",
        "\r\n",
        "model = LinearRegression()\r\n",
        "model.fit(X_train,y_train)\r\n",
        "\r\n",
        "print(model.intercept_)"
      ],
      "execution_count": 79,
      "outputs": [
        {
          "output_type": "stream",
          "text": [
            "(188, 6)\n",
            "(126, 6)\n",
            "(188,)\n",
            "(126,)\n",
            "285.2330319427961\n"
          ],
          "name": "stdout"
        }
      ]
    },
    {
      "cell_type": "code",
      "metadata": {
        "colab": {
          "base_uri": "https://localhost:8080/",
          "height": 235
        },
        "id": "7S2c2nbgx7zm",
        "outputId": "6ea17ccf-11f1-4757-85b1-f0ae2f0e6f07"
      },
      "source": [
        "coeff_parameter = pd.DataFrame(model.coef_,X.columns,columns=['Coefficient'])\r\n",
        "coeff_parameter"
      ],
      "execution_count": 80,
      "outputs": [
        {
          "output_type": "execute_result",
          "data": {
            "text/html": [
              "<div>\n",
              "<style scoped>\n",
              "    .dataframe tbody tr th:only-of-type {\n",
              "        vertical-align: middle;\n",
              "    }\n",
              "\n",
              "    .dataframe tbody tr th {\n",
              "        vertical-align: top;\n",
              "    }\n",
              "\n",
              "    .dataframe thead th {\n",
              "        text-align: right;\n",
              "    }\n",
              "</style>\n",
              "<table border=\"1\" class=\"dataframe\">\n",
              "  <thead>\n",
              "    <tr style=\"text-align: right;\">\n",
              "      <th></th>\n",
              "      <th>Coefficient</th>\n",
              "    </tr>\n",
              "  </thead>\n",
              "  <tbody>\n",
              "    <tr>\n",
              "      <th>age_with_mean</th>\n",
              "      <td>-1.926251</td>\n",
              "    </tr>\n",
              "    <tr>\n",
              "      <th>sex_M</th>\n",
              "      <td>18.139876</td>\n",
              "    </tr>\n",
              "    <tr>\n",
              "      <th>hospital_St. Joseph's Health Centre</th>\n",
              "      <td>4.969541</td>\n",
              "    </tr>\n",
              "    <tr>\n",
              "      <th>hospital_St. Michael's Hospital</th>\n",
              "      <td>6.728388</td>\n",
              "    </tr>\n",
              "    <tr>\n",
              "      <th>hospital_Sunnybrook Health Sciences Centre</th>\n",
              "      <td>6.271838</td>\n",
              "    </tr>\n",
              "    <tr>\n",
              "      <th>hospital_Toronto Western Hospital</th>\n",
              "      <td>9.035228</td>\n",
              "    </tr>\n",
              "  </tbody>\n",
              "</table>\n",
              "</div>"
            ],
            "text/plain": [
              "                                            Coefficient\n",
              "age_with_mean                                 -1.926251\n",
              "sex_M                                         18.139876\n",
              "hospital_St. Joseph's Health Centre            4.969541\n",
              "hospital_St. Michael's Hospital                6.728388\n",
              "hospital_Sunnybrook Health Sciences Centre     6.271838\n",
              "hospital_Toronto Western Hospital              9.035228"
            ]
          },
          "metadata": {
            "tags": []
          },
          "execution_count": 80
        }
      ]
    },
    {
      "cell_type": "code",
      "metadata": {
        "colab": {
          "base_uri": "https://localhost:8080/"
        },
        "id": "E1LhuEG6yrRc",
        "outputId": "78cd7c36-19b3-41a2-a1dd-af04c4e074fd"
      },
      "source": [
        "predictions = model.predict(X_test)\r\n",
        "predictions"
      ],
      "execution_count": 81,
      "outputs": [
        {
          "output_type": "execute_result",
          "data": {
            "text/plain": [
              "array([182.54572521, 184.09138637, 178.48003833, 183.63483639,\n",
              "       177.36299848, 208.01001395, 194.1032288 , 187.48733758,\n",
              "       210.1036683 , 191.79638876, 192.1769782 , 195.50287427,\n",
              "       202.89734236, 207.06037785, 172.53388278, 175.43674788,\n",
              "       184.09138637, 195.50287427, 191.05434801, 179.78233519,\n",
              "       184.25879012, 200.30501156, 200.47241531, 203.70096278,\n",
              "       198.55175505, 184.09138637, 197.95572999, 184.09138637,\n",
              "       185.06800087, 203.70096278, 186.39822641, 186.39822641,\n",
              "       165.80549489, 171.58424669, 174.46013338, 190.21720859,\n",
              "       167.72615515, 211.86251514, 182.16513577, 182.54572521,\n",
              "       201.77471218, 216.09560578, 197.57514055, 211.40596517,\n",
              "       211.40596517, 215.88242009, 202.23126216, 192.98059861,\n",
              "       195.64888995, 182.01912008, 172.70128654, 208.39060339,\n",
              "       204.5381022 , 192.76741292, 195.50287427, 199.84846158,\n",
              "       195.99596038, 186.39822641, 194.52625977, 191.33983878,\n",
              "       196.45251036, 202.23126216, 187.48733758, 218.02185638,\n",
              "       187.79787188, 201.77471218, 195.50287427, 185.56108699,\n",
              "       204.5381022 , 219.94810698, 199.84846158, 170.15108221,\n",
              "       198.37876096, 195.50287427, 183.63483639, 191.33983878,\n",
              "       191.33983878, 169.65799609, 186.99425147, 181.70858579,\n",
              "       193.26608938, 214.16935518, 186.39822641, 179.28924908,\n",
              "       187.48733758, 177.36299848, 184.09138637, 193.57662367,\n",
              "       182.16513577, 215.25846636, 201.77471218, 187.20184682,\n",
              "       203.73448179, 176.38638398, 177.36299848, 183.14175027,\n",
              "       178.69322402, 172.53388278, 194.1032288 , 205.28014294,\n",
              "       195.64888995, 205.62721337, 185.06800087, 221.03721815,\n",
              "       206.46435279, 195.50287427, 190.2507276 , 184.09138637,\n",
              "       182.33253952, 210.1036683 , 212.24310459, 182.33253952,\n",
              "       195.50287427, 209.47971457, 197.92221098, 186.01763697,\n",
              "       207.55346397, 191.96379251, 186.01763697, 203.35389234,\n",
              "       174.62753713, 198.37876096, 211.86251514, 189.72412247,\n",
              "       173.51049728, 183.63483639])"
            ]
          },
          "metadata": {
            "tags": []
          },
          "execution_count": 81
        }
      ]
    },
    {
      "cell_type": "code",
      "metadata": {
        "colab": {
          "base_uri": "https://localhost:8080/",
          "height": 351
        },
        "id": "z_azbj7Dz9Xl",
        "outputId": "9e454dde-11e0-42d1-edd5-ce4e10c522d0"
      },
      "source": [
        "import seaborn as sns\r\n",
        "sns.regplot(y_test,predictions)"
      ],
      "execution_count": 83,
      "outputs": [
        {
          "output_type": "stream",
          "text": [
            "/usr/local/lib/python3.6/dist-packages/seaborn/_decorators.py:43: FutureWarning: Pass the following variables as keyword args: x, y. From version 0.12, the only valid positional argument will be `data`, and passing other arguments without an explicit keyword will result in an error or misinterpretation.\n",
            "  FutureWarning\n"
          ],
          "name": "stderr"
        },
        {
          "output_type": "execute_result",
          "data": {
            "text/plain": [
              "<matplotlib.axes._subplots.AxesSubplot at 0x7fbd4f3cd1d0>"
            ]
          },
          "metadata": {
            "tags": []
          },
          "execution_count": 83
        },
        {
          "output_type": "display_data",
          "data": {
            "image/png": "[encoded data removed]",
            "text/plain": [
              "<Figure size 432x288 with 1 Axes>"
            ]
          },
          "metadata": {
            "tags": [],
            "needs_background": "light"
          }
        }
      ]
    },
    {
      "cell_type": "markdown",
      "metadata": {
        "id": "d0itHjr6GZKY"
      },
      "source": [
        "###***Visualizing Relationship between length_of_stay (discharge date and time minus admission date and time) and charlson_comorbidity_index***"
      ]
    },
    {
      "cell_type": "code",
      "metadata": {
        "colab": {
          "base_uri": "https://localhost:8080/"
        },
        "id": "ejprPhZ10B1L",
        "outputId": "61776875-90d3-441b-f465-6b4d648a001a"
      },
      "source": [
        "print(combined_df['charlson_comorbidity_index'].unique())\r\n",
        "combined_df_plot = combined_df.copy()\r\n",
        "combined_df_plot = combined_df_plot.dropna()\r\n",
        "print(combined_df_plot['charlson_comorbidity_index'].unique())\r\n",
        "print(combined_df_plot.shape)"
      ],
      "execution_count": 97,
      "outputs": [
        {
          "output_type": "stream",
          "text": [
            "['1' '0' nan '2+']\n",
            "['0' '1' '2+']\n",
            "(365, 24)\n"
          ],
          "name": "stdout"
        }
      ]
    },
    {
      "cell_type": "code",
      "metadata": {
        "id": "0JsRmhgD2F6S"
      },
      "source": [
        "combined_df_plot['ddt'] = (combined_df_plot['discharge_date'] + \" \" + combined_df_plot['discharge_time']).astype('datetime64[ns]')\r\n",
        "combined_df_plot['adt'] = (combined_df_plot['admission_date'] + \" \"+ combined_df_plot['admission_time']).astype('datetime64[ns]')\r\n",
        "combined_df_plot['diff'] = (combined_df_plot['ddt'] - combined_df_plot['adt'])/ np.timedelta64(1, 'D')\r\n"
      ],
      "execution_count": 112,
      "outputs": []
    },
    {
      "cell_type": "code",
      "metadata": {
        "colab": {
          "base_uri": "https://localhost:8080/"
        },
        "id": "8Js8gg7O5UXW",
        "outputId": "a06769c5-6f66-4398-994d-23405ad1fff1"
      },
      "source": [
        "combined_plot_grouped = combined_df_plot.groupby(['charlson_comorbidity_index']).mean().reset_index()"
      ],
      "execution_count": 133,
      "outputs": [
        {
          "output_type": "execute_result",
          "data": {
            "text/plain": [
              "pandas.core.frame.DataFrame"
            ]
          },
          "metadata": {
            "tags": []
          },
          "execution_count": 133
        }
      ]
    },
    {
      "cell_type": "code",
      "metadata": {
        "colab": {
          "base_uri": "https://localhost:8080/",
          "height": 302
        },
        "id": "dZkNuRhk2z9z",
        "outputId": "3d38f599-803e-4460-c058-c71d5549cb76"
      },
      "source": [
        "combined_plot_grouped.plot(x=\"charlson_comorbidity_index\", y=[\"diff\"], kind=\"bar\")"
      ],
      "execution_count": 134,
      "outputs": [
        {
          "output_type": "execute_result",
          "data": {
            "text/plain": [
              "<matplotlib.axes._subplots.AxesSubplot at 0x7fbd4e46b748>"
            ]
          },
          "metadata": {
            "tags": []
          },
          "execution_count": 134
        },
        {
          "output_type": "display_data",
          "data": {
            "image/png": "[encoded data removed]",
            "text/plain": [
              "<Figure size 432x288 with 1 Axes>"
            ]
          },
          "metadata": {
            "tags": [],
            "needs_background": "light"
          }
        }
      ]
    }
  ]
}